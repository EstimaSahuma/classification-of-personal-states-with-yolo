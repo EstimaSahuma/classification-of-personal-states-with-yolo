{
 "cells": [
  {
   "cell_type": "code",
   "execution_count": 9,
   "id": "2a7fea4f-d2ca-4e8c-a1c7-1c4cac989fa5",
   "metadata": {},
   "outputs": [
    {
     "name": "stdout",
     "output_type": "stream",
     "text": [
      "New https://pypi.org/project/ultralytics/8.3.157 available  Update with 'pip install -U ultralytics'\n",
      "Ultralytics 8.3.156  Python-3.12.7 torch-2.5.1+cu118 CUDA:0 (NVIDIA GeForce RTX 4060, 8188MiB)\n",
      "\u001b[34m\u001b[1mengine\\trainer: \u001b[0magnostic_nms=False, amp=True, augment=False, auto_augment=randaugment, batch=16, bgr=0.0, box=7.5, cache=False, cfg=None, classes=None, close_mosaic=10, cls=0.5, conf=None, copy_paste=0.0, copy_paste_mode=flip, cos_lr=False, cutmix=0.0, data=C:\\Users\\netinhoklz\\Downloads\\Trabalho visao computacional\\DriveGaze_Organizado_Fixo, degrees=0.0, deterministic=True, device=None, dfl=1.5, dnn=False, dropout=0.0, dynamic=False, embed=None, epochs=10, erasing=0.4, exist_ok=False, fliplr=0.5, flipud=0.0, format=torchscript, fraction=1.0, freeze=None, half=False, hsv_h=0.015, hsv_s=0.7, hsv_v=0.4, imgsz=224, int8=False, iou=0.7, keras=False, kobj=1.0, line_width=None, lr0=0.01, lrf=0.01, mask_ratio=4, max_det=300, mixup=0.0, mode=train, model=C:\\Users\\netinhoklz\\Downloads\\train22\\weights\\best.pt, momentum=0.937, mosaic=1.0, multi_scale=False, name=train23, nbs=64, nms=False, opset=None, optimize=False, optimizer=auto, overlap_mask=True, patience=100, perspective=0.0, plots=True, pose=12.0, pretrained=True, profile=False, project=None, rect=False, resume=False, retina_masks=False, save=True, save_conf=False, save_crop=False, save_dir=runs\\classify\\train23, save_frames=False, save_json=False, save_period=-1, save_txt=False, scale=0.5, seed=0, shear=0.0, show=False, show_boxes=True, show_conf=True, show_labels=True, simplify=True, single_cls=False, source=None, split=val, stream_buffer=False, task=classify, time=None, tracker=botsort.yaml, translate=0.1, val=True, verbose=True, vid_stride=1, visualize=False, warmup_bias_lr=0.1, warmup_epochs=3.0, warmup_momentum=0.8, weight_decay=0.0005, workers=8, workspace=None\n",
      "\u001b[34m\u001b[1mtrain:\u001b[0m C:\\Users\\netinhoklz\\Downloads\\Trabalho visao computacional\\DriveGaze_Organizado_Fixo\\train... found 107223 images in 7 classes  \n",
      "\u001b[34m\u001b[1mval:\u001b[0m C:\\Users\\netinhoklz\\Downloads\\Trabalho visao computacional\\DriveGaze_Organizado_Fixo\\val... found 19217 images in 7 classes  \n",
      "\u001b[34m\u001b[1mtest:\u001b[0m C:\\Users\\netinhoklz\\Downloads\\Trabalho visao computacional\\DriveGaze_Organizado_Fixo\\test... found 19243 images in 7 classes  \n",
      "\n",
      "                   from  n    params  module                                       arguments                     \n",
      "  0                  -1  1       464  ultralytics.nn.modules.conv.Conv             [3, 16, 3, 2]                 \n",
      "  1                  -1  1      4672  ultralytics.nn.modules.conv.Conv             [16, 32, 3, 2]                \n",
      "  2                  -1  1      6640  ultralytics.nn.modules.block.C3k2            [32, 64, 1, False, 0.25]      \n",
      "  3                  -1  1     36992  ultralytics.nn.modules.conv.Conv             [64, 64, 3, 2]                \n",
      "  4                  -1  1     26080  ultralytics.nn.modules.block.C3k2            [64, 128, 1, False, 0.25]     \n",
      "  5                  -1  1    147712  ultralytics.nn.modules.conv.Conv             [128, 128, 3, 2]              \n",
      "  6                  -1  1     87040  ultralytics.nn.modules.block.C3k2            [128, 128, 1, True]           \n",
      "  7                  -1  1    295424  ultralytics.nn.modules.conv.Conv             [128, 256, 3, 2]              \n",
      "  8                  -1  1    346112  ultralytics.nn.modules.block.C3k2            [256, 256, 1, True]           \n",
      "  9                  -1  1    249728  ultralytics.nn.modules.block.C2PSA           [256, 256, 1]                 \n",
      " 10                  -1  1    339207  ultralytics.nn.modules.head.Classify         [256, 7]                      \n",
      "YOLO11n-cls summary: 86 layers, 1,540,071 parameters, 1,540,071 gradients, 3.3 GFLOPs\n",
      "Transferred 236/236 items from pretrained weights\n",
      "\u001b[34m\u001b[1mAMP: \u001b[0mrunning Automatic Mixed Precision (AMP) checks...\n",
      "\u001b[34m\u001b[1mAMP: \u001b[0mchecks passed \n",
      "\u001b[34m\u001b[1mtrain: \u001b[0mFast image access  (ping: 0.00.0 ms, read: 103.468.2 MB/s, size: 11.6 KB)\n"
     ]
    },
    {
     "name": "stderr",
     "output_type": "stream",
     "text": [
      "\u001b[34m\u001b[1mtrain: \u001b[0mScanning C:\\Users\\netinhoklz\\Downloads\\Trabalho visao computacional\\DriveGaze_Organizado_Fixo\\train... 107223 im\u001b[0m\n"
     ]
    },
    {
     "name": "stdout",
     "output_type": "stream",
     "text": [
      "\u001b[34m\u001b[1mval: \u001b[0mFast image access  (ping: 0.00.0 ms, read: 101.457.4 MB/s, size: 10.9 KB)\n"
     ]
    },
    {
     "name": "stderr",
     "output_type": "stream",
     "text": [
      "\u001b[34m\u001b[1mval: \u001b[0mScanning C:\\Users\\netinhoklz\\Downloads\\Trabalho visao computacional\\DriveGaze_Organizado_Fixo\\val... 19217 images,\u001b[0m\n"
     ]
    },
    {
     "name": "stdout",
     "output_type": "stream",
     "text": [
      "\u001b[34m\u001b[1moptimizer:\u001b[0m 'optimizer=auto' found, ignoring 'lr0=0.01' and 'momentum=0.937' and determining best 'optimizer', 'lr0' and 'momentum' automatically... \n",
      "\u001b[34m\u001b[1moptimizer:\u001b[0m SGD(lr=0.01, momentum=0.9) with parameter groups 39 weight(decay=0.0), 40 weight(decay=0.0005), 40 bias(decay=0.0)\n",
      "Image sizes 224 train, 224 val\n",
      "Using 8 dataloader workers\n",
      "Logging results to \u001b[1mruns\\classify\\train23\u001b[0m\n",
      "Starting training for 10 epochs...\n",
      "\n",
      "      Epoch    GPU_mem       loss  Instances       Size\n"
     ]
    },
    {
     "name": "stderr",
     "output_type": "stream",
     "text": [
      "       1/10      0.24G      1.331          7        224: 100%|██████████| 6702/6702 [03:17<00:00, 33.86it/s]\n",
      "               classes   top1_acc   top5_acc: 100%|██████████| 601/601 [00:07<00:00, 82.94it/s]"
     ]
    },
    {
     "name": "stdout",
     "output_type": "stream",
     "text": [
      "                   all      0.605      0.954\n"
     ]
    },
    {
     "name": "stderr",
     "output_type": "stream",
     "text": [
      "\n"
     ]
    },
    {
     "name": "stdout",
     "output_type": "stream",
     "text": [
      "\n",
      "      Epoch    GPU_mem       loss  Instances       Size\n"
     ]
    },
    {
     "name": "stderr",
     "output_type": "stream",
     "text": [
      "       2/10     0.242G      1.357          7        224: 100%|██████████| 6702/6702 [02:57<00:00, 37.69it/s]\n",
      "               classes   top1_acc   top5_acc: 100%|██████████| 601/601 [00:07<00:00, 85.08it/s]"
     ]
    },
    {
     "name": "stdout",
     "output_type": "stream",
     "text": [
      "                   all      0.592      0.948\n"
     ]
    },
    {
     "name": "stderr",
     "output_type": "stream",
     "text": [
      "\n"
     ]
    },
    {
     "name": "stdout",
     "output_type": "stream",
     "text": [
      "\n",
      "      Epoch    GPU_mem       loss  Instances       Size\n"
     ]
    },
    {
     "name": "stderr",
     "output_type": "stream",
     "text": [
      "       3/10     0.242G      1.411          7        224: 100%|██████████| 6702/6702 [02:50<00:00, 39.35it/s]\n",
      "               classes   top1_acc   top5_acc: 100%|██████████| 601/601 [00:07<00:00, 85.25it/s]\n"
     ]
    },
    {
     "name": "stdout",
     "output_type": "stream",
     "text": [
      "                   all      0.581      0.949\n",
      "\n",
      "      Epoch    GPU_mem       loss  Instances       Size\n"
     ]
    },
    {
     "name": "stderr",
     "output_type": "stream",
     "text": [
      "       4/10     0.242G      1.439          7        224: 100%|██████████| 6702/6702 [02:45<00:00, 40.46it/s]\n",
      "               classes   top1_acc   top5_acc: 100%|██████████| 601/601 [00:07<00:00, 84.96it/s]"
     ]
    },
    {
     "name": "stdout",
     "output_type": "stream",
     "text": [
      "                   all      0.582      0.949\n"
     ]
    },
    {
     "name": "stderr",
     "output_type": "stream",
     "text": [
      "\n"
     ]
    },
    {
     "name": "stdout",
     "output_type": "stream",
     "text": [
      "\n",
      "      Epoch    GPU_mem       loss  Instances       Size\n"
     ]
    },
    {
     "name": "stderr",
     "output_type": "stream",
     "text": [
      "       5/10     0.242G      1.415          7        224: 100%|██████████| 6702/6702 [02:57<00:00, 37.82it/s]\n",
      "               classes   top1_acc   top5_acc: 100%|██████████| 601/601 [00:07<00:00, 81.79it/s]"
     ]
    },
    {
     "name": "stdout",
     "output_type": "stream",
     "text": [
      "                   all      0.595      0.953\n"
     ]
    },
    {
     "name": "stderr",
     "output_type": "stream",
     "text": [
      "\n"
     ]
    },
    {
     "name": "stdout",
     "output_type": "stream",
     "text": [
      "\n",
      "      Epoch    GPU_mem       loss  Instances       Size\n"
     ]
    },
    {
     "name": "stderr",
     "output_type": "stream",
     "text": [
      "       6/10     0.242G      1.394          7        224: 100%|██████████| 6702/6702 [02:49<00:00, 39.64it/s]\n",
      "               classes   top1_acc   top5_acc: 100%|██████████| 601/601 [00:07<00:00, 80.66it/s]"
     ]
    },
    {
     "name": "stdout",
     "output_type": "stream",
     "text": [
      "                   all        0.6      0.952\n"
     ]
    },
    {
     "name": "stderr",
     "output_type": "stream",
     "text": [
      "\n"
     ]
    },
    {
     "name": "stdout",
     "output_type": "stream",
     "text": [
      "\n",
      "      Epoch    GPU_mem       loss  Instances       Size\n"
     ]
    },
    {
     "name": "stderr",
     "output_type": "stream",
     "text": [
      "       7/10     0.242G      1.371          7        224: 100%|██████████| 6702/6702 [02:44<00:00, 40.71it/s]\n",
      "               classes   top1_acc   top5_acc: 100%|██████████| 601/601 [00:06<00:00, 87.48it/s]\n"
     ]
    },
    {
     "name": "stdout",
     "output_type": "stream",
     "text": [
      "                   all      0.607      0.953\n",
      "\n",
      "      Epoch    GPU_mem       loss  Instances       Size\n"
     ]
    },
    {
     "name": "stderr",
     "output_type": "stream",
     "text": [
      "       8/10     0.242G      1.349          7        224: 100%|██████████| 6702/6702 [02:43<00:00, 40.96it/s]\n",
      "               classes   top1_acc   top5_acc: 100%|██████████| 601/601 [00:06<00:00, 88.72it/s]\n"
     ]
    },
    {
     "name": "stdout",
     "output_type": "stream",
     "text": [
      "                   all      0.612      0.954\n",
      "\n",
      "      Epoch    GPU_mem       loss  Instances       Size\n"
     ]
    },
    {
     "name": "stderr",
     "output_type": "stream",
     "text": [
      "       9/10     0.242G      1.322          7        224: 100%|██████████| 6702/6702 [02:43<00:00, 40.99it/s]\n",
      "               classes   top1_acc   top5_acc: 100%|██████████| 601/601 [00:06<00:00, 87.16it/s]"
     ]
    },
    {
     "name": "stdout",
     "output_type": "stream",
     "text": [
      "                   all      0.618      0.954\n"
     ]
    },
    {
     "name": "stderr",
     "output_type": "stream",
     "text": [
      "\n"
     ]
    },
    {
     "name": "stdout",
     "output_type": "stream",
     "text": [
      "\n",
      "      Epoch    GPU_mem       loss  Instances       Size\n"
     ]
    },
    {
     "name": "stderr",
     "output_type": "stream",
     "text": [
      "      10/10     0.242G      1.294          7        224: 100%|██████████| 6702/6702 [02:42<00:00, 41.21it/s]\n",
      "               classes   top1_acc   top5_acc: 100%|██████████| 601/601 [00:06<00:00, 89.75it/s]"
     ]
    },
    {
     "name": "stdout",
     "output_type": "stream",
     "text": [
      "                   all       0.62      0.954\n"
     ]
    },
    {
     "name": "stderr",
     "output_type": "stream",
     "text": [
      "\n"
     ]
    },
    {
     "name": "stdout",
     "output_type": "stream",
     "text": [
      "\n",
      "10 epochs completed in 0.504 hours.\n",
      "Optimizer stripped from runs\\classify\\train23\\weights\\last.pt, 3.2MB\n",
      "Optimizer stripped from runs\\classify\\train23\\weights\\best.pt, 3.2MB\n",
      "\n",
      "Validating runs\\classify\\train23\\weights\\best.pt...\n",
      "Ultralytics 8.3.156  Python-3.12.7 torch-2.5.1+cu118 CUDA:0 (NVIDIA GeForce RTX 4060, 8188MiB)\n",
      "YOLO11n-cls summary (fused): 47 layers, 1,534,991 parameters, 0 gradients, 3.2 GFLOPs\n",
      "\u001b[34m\u001b[1mtrain:\u001b[0m C:\\Users\\netinhoklz\\Downloads\\Trabalho visao computacional\\DriveGaze_Organizado_Fixo\\train... found 107223 images in 7 classes  \n",
      "\u001b[34m\u001b[1mval:\u001b[0m C:\\Users\\netinhoklz\\Downloads\\Trabalho visao computacional\\DriveGaze_Organizado_Fixo\\val... found 19217 images in 7 classes  \n",
      "\u001b[34m\u001b[1mtest:\u001b[0m C:\\Users\\netinhoklz\\Downloads\\Trabalho visao computacional\\DriveGaze_Organizado_Fixo\\test... found 19243 images in 7 classes  \n"
     ]
    },
    {
     "name": "stderr",
     "output_type": "stream",
     "text": [
      "               classes   top1_acc   top5_acc: 100%|██████████| 601/601 [00:06<00:00, 86.76it/s]\n"
     ]
    },
    {
     "name": "stdout",
     "output_type": "stream",
     "text": [
      "                   all      0.621      0.954\n",
      "Speed: 0.1ms preprocess, 0.2ms inference, 0.0ms loss, 0.0ms postprocess per image\n",
      "Results saved to \u001b[1mruns\\classify\\train23\u001b[0m\n"
     ]
    }
   ],
   "source": [
    "from ultralytics import YOLO\n",
    "model = YOLO(r\"C:\\Users\\netinhoklz\\Downloads\\train22\\weights\\best.pt\")\n",
    "\n",
    "results = model.train(data=r\"C:\\Users\\netinhoklz\\Downloads\\Trabalho visao computacional\\DriveGaze_Organizado_Fixo\", epochs=10)"
   ]
  },
  {
   "cell_type": "code",
   "execution_count": 10,
   "id": "f7862213-f755-4de5-8b31-29175eba76d5",
   "metadata": {},
   "outputs": [
    {
     "name": "stdout",
     "output_type": "stream",
     "text": [
      "Ultralytics 8.3.156  Python-3.12.7 torch-2.5.1+cu118 CUDA:0 (NVIDIA GeForce RTX 4060, 8188MiB)\n",
      "YOLO11n-cls summary (fused): 47 layers, 1,534,991 parameters, 0 gradients, 3.2 GFLOPs\n",
      "\u001b[34m\u001b[1mtrain:\u001b[0m C:\\Users\\netinhoklz\\Downloads\\Trabalho visao computacional\\DriveGaze_Organizado_Fixo\\train... found 107223 images in 7 classes  \n",
      "\u001b[34m\u001b[1mval:\u001b[0m C:\\Users\\netinhoklz\\Downloads\\Trabalho visao computacional\\DriveGaze_Organizado_Fixo\\val... found 19217 images in 7 classes  \n",
      "\u001b[34m\u001b[1mtest:\u001b[0m C:\\Users\\netinhoklz\\Downloads\\Trabalho visao computacional\\DriveGaze_Organizado_Fixo\\test... found 19243 images in 7 classes  \n",
      "\u001b[34m\u001b[1mtest: \u001b[0mFast image access  (ping: 0.00.0 ms, read: 87.468.8 MB/s, size: 10.1 KB)\n"
     ]
    },
    {
     "name": "stderr",
     "output_type": "stream",
     "text": [
      "\u001b[34m\u001b[1mtest: \u001b[0mScanning C:\\Users\\netinhoklz\\Downloads\\Trabalho visao computacional\\DriveGaze_Organizado_Fixo\\test... 19243 image\u001b[0m\n",
      "               classes   top1_acc   top5_acc: 100%|██████████| 1203/1203 [00:07<00:00, 159.06it/s]\n"
     ]
    },
    {
     "name": "stdout",
     "output_type": "stream",
     "text": [
      "                   all      0.615      0.955\n",
      "Speed: 0.1ms preprocess, 0.3ms inference, 0.0ms loss, 0.0ms postprocess per image\n",
      "Results saved to \u001b[1mruns\\classify\\train232\u001b[0m\n",
      "Resultados da Avaliação:\n",
      "------------------------\n",
      "Acurácia Top-1: 0.6208\n",
      "Acurácia Top-5: 0.9544\n",
      "Velocidade (preprocess, inference, postprocess) em ms: {'preprocess': 0.06603353281133496, 'inference': 0.17340838840397674, 'loss': 0.0002476036855969852, 'postprocess': 0.0003220013521397772}\n"
     ]
    }
   ],
   "source": [
    "# O argumento 'split=\"test\"' garante que a base de teste será usada.\n",
    "results2 = model.val(data=r\"C:\\Users\\netinhoklz\\Downloads\\Trabalho visao computacional\\DriveGaze_Organizado_Fixo\", split='test')\n",
    "\n",
    "# 3. Acesse e imprima as métricas de CLASSIFICAÇÃO\n",
    "print(\"Resultados da Avaliação:\")\n",
    "print(\"------------------------\")\n",
    "\n",
    "# Este é o bloco correto para a sua tarefa\n",
    "if hasattr(results, 'top1'):\n",
    "    print(f\"Acurácia Top-1: {results.top1:.4f}\")\n",
    "    print(f\"Acurácia Top-5: {results.top5:.4f}\")\n",
    "\n",
    "# O objeto 'results' também contém outras informações, como a velocidade\n",
    "print(f\"Velocidade (preprocess, inference, postprocess) em ms: {results.speed}\")"
   ]
  },
  {
   "cell_type": "code",
   "execution_count": 11,
   "id": "74ae547f-48a6-4b9e-8445-8a6b48ce5a89",
   "metadata": {},
   "outputs": [
    {
     "data": {
      "text/plain": [
       "{0: 'angry',\n",
       " 1: 'brake',\n",
       " 2: 'distracted',\n",
       " 3: 'excited',\n",
       " 4: 'focus',\n",
       " 5: 'mistake',\n",
       " 6: 'tired'}"
      ]
     },
     "execution_count": 11,
     "metadata": {},
     "output_type": "execute_result"
    }
   ],
   "source": [
    "model.names"
   ]
  },
  {
   "cell_type": "code",
   "execution_count": 13,
   "id": "32f26fe8-c138-426a-befb-38b4bc192bc8",
   "metadata": {},
   "outputs": [
    {
     "name": "stdout",
     "output_type": "stream",
     "text": [
      "Iniciando a predição no conjunto de validação...\n",
      "Predição concluída.\n",
      "\n",
      "--- Relatório de Classificação ---\n",
      "              precision    recall  f1-score   support\n",
      "\n",
      "       angry       0.58      0.58      0.58      2747\n",
      "       brake       0.76      0.60      0.67      2685\n",
      "  distracted       0.85      0.59      0.70      2837\n",
      "     excited       0.51      0.59      0.55      2717\n",
      "       focus       0.53      0.81      0.64      2676\n",
      "     mistake       0.50      0.45      0.47      2773\n",
      "       tired       0.72      0.69      0.70      2808\n",
      "\n",
      "    accuracy                           0.61     19243\n",
      "   macro avg       0.64      0.62      0.62     19243\n",
      "weighted avg       0.64      0.61      0.62     19243\n",
      "\n"
     ]
    }
   ],
   "source": [
    "import os\n",
    "from ultralytics import YOLO\n",
    "from sklearn.metrics import classification_report, confusion_matrix\n",
    "import numpy as np\n",
    "import seaborn as sns\n",
    "import matplotlib.pyplot as plt\n",
    "\n",
    "# --- Configuração ---\n",
    "# Caminho para o seu modelo de CLASSIFICAÇÃO treinado\n",
    "MODEL_PATH = r'C:\\Users\\netinhoklz\\Downloads\\Trabalho visao computacional\\runs\\classify\\train23\\weights\\best.pt'\n",
    "\n",
    "# Caminho para a pasta de validação\n",
    "VALIDATION_DIR = r'C:\\Users\\netinhoklz\\Downloads\\Trabalho visao computacional\\DriveGaze_Organizado_Fixo\\test'\n",
    "\n",
    "# --- Carregamento ---\n",
    "# Carregue o modelo de classificação\n",
    "model = YOLO(MODEL_PATH)\n",
    "\n",
    "# --- Processamento e Predição ---\n",
    "true_labels = []\n",
    "pred_labels = []\n",
    "\n",
    "# Obter o mapeamento de nome de classe para índice do modelo\n",
    "class_names = model.names\n",
    "class_indices = {name: i for i, name in class_names.items()}\n",
    "\n",
    "print(\"Iniciando a predição no conjunto de validação...\")\n",
    "\n",
    "# Iterar sobre cada pasta de classe no diretório de validação\n",
    "for class_name in os.listdir(VALIDATION_DIR):\n",
    "    class_dir = os.path.join(VALIDATION_DIR, class_name)\n",
    "    if not os.path.isdir(class_dir):\n",
    "        continue\n",
    "\n",
    "    # Obter o índice da classe verdadeira (ground truth)\n",
    "    true_label_idx = class_indices.get(class_name)\n",
    "    if true_label_idx is None:\n",
    "        print(f\"Aviso: A pasta '{class_name}' não corresponde a nenhuma classe do modelo. Pulando.\")\n",
    "        continue\n",
    "\n",
    "    # Iterar sobre cada imagem na pasta da classe\n",
    "    for image_name in os.listdir(class_dir):\n",
    "        image_path = os.path.join(class_dir, image_name)\n",
    "\n",
    "        # Fazer a predição na imagem\n",
    "        results = model(image_path, verbose=False) # verbose=False para não poluir a saída\n",
    "\n",
    "        # Obter o índice da classe prevista com maior probabilidade\n",
    "        pred_label_idx = results[0].probs.top1\n",
    "\n",
    "        # Adicionar à lista de rótulos verdadeiros e previstos\n",
    "        true_labels.append(true_label_idx)\n",
    "        pred_labels.append(pred_label_idx)\n",
    "\n",
    "print(\"Predição concluída.\")\n",
    "\n",
    "# --- Cálculo e Exibição das Métricas ---\n",
    "print(\"\\n--- Relatório de Classificação ---\")\n",
    "# O classification_report já calcula precision, recall, f1-score por classe\n",
    "# target_names mapeia os índices de volta para os nomes das classes\n",
    "report = classification_report(true_labels, pred_labels, target_names=class_names.values())\n",
    "print(report)"
   ]
  },
  {
   "cell_type": "code",
   "execution_count": null,
   "id": "ffe3ca62-93cd-4f47-82d6-b1393e01b3b1",
   "metadata": {},
   "outputs": [],
   "source": []
  }
 ],
 "metadata": {
  "kernelspec": {
   "display_name": "Python 3 (ipykernel)",
   "language": "python",
   "name": "python3"
  },
  "language_info": {
   "codemirror_mode": {
    "name": "ipython",
    "version": 3
   },
   "file_extension": ".py",
   "mimetype": "text/x-python",
   "name": "python",
   "nbconvert_exporter": "python",
   "pygments_lexer": "ipython3",
   "version": "3.12.7"
  }
 },
 "nbformat": 4,
 "nbformat_minor": 5
}
